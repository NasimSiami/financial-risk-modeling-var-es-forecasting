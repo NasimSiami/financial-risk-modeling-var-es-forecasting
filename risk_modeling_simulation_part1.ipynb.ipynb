{
 "cells": [
  {
   "attachments": {},
   "cell_type": "markdown",
   "metadata": {
    "collapsed": false,
    "nbgrader": {
     "grade": false,
     "grade_id": "0ca144",
     "locked": true,
     "schema_version": 3,
     "solution": false,
     "task": false
    }
   },
   "source": [
    "# MATH 60210 \n",
    "\n",
    "Nasim Siami"
   ]
  },
  {
   "cell_type": "code",
   "execution_count": 1,
   "metadata": {
    "collapsed": false,
    "nbgrader": {
     "grade": false,
     "grade_id": "2a87ab",
     "locked": true,
     "schema_version": 3,
     "solution": false,
     "task": false
    }
   },
   "outputs": [],
   "source": [
    "import numpy as np\n",
    "import numpy.random as npr\n",
    "import pandas as pd\n",
    "import statsmodels.api as sm\n",
    "\n",
    "RawData = pd.read_excel('PSet_1_H2022.xlsx',index_col=0)"
   ]
  },
  {
   "cell_type": "markdown",
   "metadata": {
    "collapsed": false,
    "nbgrader": {
     "grade": false,
     "grade_id": "228b0d",
     "locked": true,
     "schema_version": 3,
     "solution": false,
     "task": false
    }
   },
   "source": [
    "## Data\n",
    "\n",
    "The data that you'll use for this assignment is in `PSet_1_H2022.xlsx`.\n",
    "\n",
    "This contains monthly US data from the beginning of 2001 to the end of 2021.<br>\n",
    "The series are\n",
    "- the S&P500 Index (`SP500`)\n",
    "- the Consumer Price Index (`Inflation_CPI`)\n",
    "- the price of oil (`Oil Prices`)\n",
    "\n",
    "All series are monthly rates of change. \n"
   ]
  },
  {
   "cell_type": "markdown",
   "metadata": {
    "collapsed": false,
    "nbgrader": {
     "grade": false,
     "grade_id": "7a71ba",
     "locked": true,
     "schema_version": 3,
     "solution": false,
     "task": false
    }
   },
   "source": [
    "---\n",
    "## Question 1 - Simulation\n",
    "\n",
    "### Part a\n",
    "\n",
    "Create a function ``Q1_OLS3(df)`` that accepts a dataframe (`df`) with 3 series.<br>\n",
    "It then runs the OLS regression \n",
    "$$\n",
    "Y = \\beta_0 + \\beta_1 \\cdot X1 + \\beta_2 \\cdot X2 + \\epsilon\n",
    "$$\n",
    "where\n",
    "- $Y$  is the first series in the dataframe  (df column 0)\n",
    "- $X1$ is the second series in the dataframe (df column 1)\n",
    "- $X2$ is the third series in the dataframe  (df column 2)\n",
    "\n",
    "The function should return a 2x2 NumPy array\n",
    "- element 0,0 contains the non-robust F-statistic testing $H_0 : \\beta_1 = \\beta_2 = 0$.\n",
    "- element 1,0 contains the heteroscedasticity-robust F-statistic (*`HC3`*) testing $H_0 : \\beta_1 = \\beta_2 = 0$.\n",
    "- element 0,1 contains the estimated p-value of the non-robust F-statistic.\n",
    "- element 1,1 contains the estimated p-value of the robust F-statistic."
   ]
  },
  {
   "cell_type": "code",
   "execution_count": 2,
   "metadata": {
    "collapsed": false,
    "nbgrader": {
     "grade": false,
     "grade_id": "ce4126",
     "locked": false,
     "remove": false,
     "schema_version": 3,
     "solution": true,
     "task": false
    }
   },
   "outputs": [],
   "source": [
    "def Q1_OLS3(df):\n",
    "    \"\"\"\n",
    "    This function accepts a dataframe with 3 variables [Y,X1,X2]\n",
    "    It then regresses Y on a constant, X1 and X2 using OLS\n",
    "    and tests the joint null that X1 and X2 are insignificant.\n",
    "\n",
    "    It returns an 2x2 array of F-statistics and p-values \n",
    "    using both non-robust and robust (HC3) standard errors. \n",
    "    \"\"\"\n",
    "\n",
    "    ### BEGIN SOLUTION\n",
    "    # Define the model\n",
    "    model = sm.OLS(df.iloc[:, 0], sm.add_constant(df.iloc[:, 1:]))\n",
    "    B_Restr = np.array(([0, 1, 0], [0, 0, 1]))  # restrict \\beta1 = \\beta2 = 0\n",
    "    Results = model.fit()  # fit the model using conventional std errs\n",
    "    Ftest1 = Results.f_test(B_Restr)  # calculate the F statistic\n",
    "    RobResults = Results.get_robustcov_results(\n",
    "        cov_type='HC3')  # calculate robust std errs\n",
    "    Ftest2 = RobResults.f_test(B_Restr)  # calculate the robust F statistic\n",
    "    return np.array([[Ftest1.fvalue, Ftest1.pvalue],\n",
    "                     [Ftest2.fvalue, Ftest2.pvalue]])\n",
    "    ### END SOLUTION\n"
   ]
  },
  {
   "cell_type": "code",
   "execution_count": 3,
   "metadata": {
    "collapsed": false,
    "nbgrader": {
     "grade": true,
     "grade_id": "4df4c1",
     "locked": true,
     "points": 2,
     "remove": false,
     "schema_version": 3,
     "solution": false,
     "task": false
    }
   },
   "outputs": [],
   "source": [
    "    \n",
    "assert np.sum(Q1_OLS3(RawData) >= 0) == 4  # You should return 4 non-negative values.\n",
    "    \n"
   ]
  },
  {
   "cell_type": "markdown",
   "metadata": {
    "collapsed": false,
    "nbgrader": {
     "grade": false,
     "grade_id": "1e29a0",
     "locked": true,
     "schema_version": 3,
     "solution": false,
     "task": false
    }
   },
   "source": [
    "### Part b\n",
    "\n",
    "Create a function `Q1_ShuffleY(df)` that accepts a dataframe \\(`df`\\) with 3 series.<br>  \n",
    "\n",
    "The function should return a dataframe of the same dimension whose only difference is that the values of the series in the first column have been randomly re\\-ordered.\n",
    "\n",
    "Your function should not seed the RNG.\n",
    "\n"
   ]
  },
  {
   "cell_type": "code",
   "execution_count": 4,
   "metadata": {
    "collapsed": false,
    "nbgrader": {
     "grade": false,
     "grade_id": "43e1ee",
     "locked": false,
     "remove": false,
     "schema_version": 3,
     "solution": true,
     "task": false
    }
   },
   "outputs": [],
   "source": [
    "def Q1_ShuffleY(df):\n",
    "    \"\"\"\n",
    "    This function accepts a dataframe with 3 variables [Y,X1,X2]\n",
    "    It randomly changes the order of the values in Y.\n",
    "    It returns the changed dataframe.\n",
    "    \"\"\"\n",
    "    ### BEGIN SOLUTION\n",
    "    NewY = df.copy()\n",
    "    NewY.iloc[:, 0] = npr.permutation(NewY.iloc[:, 0])\n",
    "    return NewY\n",
    "    ### END SOLUTION"
   ]
  },
  {
   "cell_type": "code",
   "execution_count": 5,
   "metadata": {
    "collapsed": false,
    "nbgrader": {
     "grade": true,
     "grade_id": "db338b",
     "locked": true,
     "points": 2,
     "schema_version": 3,
     "solution": false,
     "task": false
    }
   },
   "outputs": [],
   "source": [
    "# 2nd and 3rd series should not change.\n",
    "assert np.array_equal(Q1_ShuffleY(RawData).iloc[:, 1:], RawData.iloc[:, 1:])\n",
    "# Descriptive statistics of first series should not change.\n",
    "assert Q1_ShuffleY(RawData).iloc[:, 0].max(0)  == RawData.iloc[:, 0].max(0)\n",
    "assert Q1_ShuffleY(RawData).iloc[:, 0].min(0)  == RawData.iloc[:, 0].min(0)\n",
    "assert abs(Q1_ShuffleY(RawData).iloc[:, 0].mean(0) - RawData.iloc[:, 0].mean(0)) < 1E-6\n",
    "assert abs(Q1_ShuffleY(RawData).iloc[:, 0].std(0)  - RawData.iloc[:, 0].std(0) ) < 1E-6\n",
    "    \n",
    "  "
   ]
  },
  {
   "cell_type": "markdown",
   "metadata": {
    "collapsed": false,
    "nbgrader": {
     "grade": false,
     "grade_id": "65c6a6",
     "locked": true,
     "schema_version": 3,
     "solution": false,
     "task": false
    }
   },
   "source": [
    "### Part c\n",
    "\n",
    "Create a function ``Q1_BootstrapY(df)`` that accepts a dataframe (`df`) with 3 series.<br>\n",
    "The function should return a dataframe of the same dimension whose only difference is that the values of the series in the first column have been randomly re-sampled (with replacement.) \n",
    "\n",
    "Your function should not seed the RNG.\n"
   ]
  },
  {
   "cell_type": "code",
   "execution_count": 6,
   "metadata": {
    "collapsed": false,
    "nbgrader": {
     "grade": false,
     "grade_id": "df9a55",
     "locked": false,
     "remove": false,
     "schema_version": 3,
     "solution": true,
     "task": false
    }
   },
   "outputs": [],
   "source": [
    "def Q1_BootstrapY(df):\n",
    "    \"\"\"\n",
    "    This function accepts a dataframe with 3 variables [Y,X1,X2]\n",
    "    It replaces Y with bootstrapped (randomly drawn, with replacement) values of Y. \n",
    "    It returns the changed dataframe.\n",
    "    \"\"\"\n",
    "    ### BEGIN SOLUTION\n",
    "    NewY = df.copy()\n",
    "    NewY.iloc[:, 0] = npr.choice(NewY.iloc[:, 0],NewY.shape[0])\n",
    "    return NewY\n",
    "    ### END SOLUTION\n"
   ]
  },
  {
   "cell_type": "code",
   "execution_count": 7,
   "metadata": {
    "collapsed": false,
    "nbgrader": {
     "grade": true,
     "grade_id": "076648",
     "locked": true,
     "points": 2,
     "schema_version": 3,
     "solution": false,
     "task": false
    }
   },
   "outputs": [],
   "source": [
    "# 2nd and 3rd series should not change.\n",
    "assert np.array_equal(Q1_BootstrapY(RawData).iloc[:, 1:], RawData.iloc[:, 1:])\n",
    "\n",
    "   "
   ]
  },
  {
   "cell_type": "markdown",
   "metadata": {
    "collapsed": false,
    "nbgrader": {
     "grade": false,
     "grade_id": "d97fae",
     "locked": true,
     "schema_version": 3,
     "solution": false,
     "task": false
    }
   },
   "source": [
    "### Part d\n",
    "\n",
    "Create a function `Q1_Simulate(df,F0,N,Replace,Robust)` that accepts  \n",
    "\n",
    "\n",
    "- a dataframe (`df`) with 3 series, and\n",
    "- a real scalar (`F0`)\n",
    "- an integer > 0 (`N`)\n",
    "- two Booleans (`Robust, Replace`)\n",
    "\n",
    "The function then\n",
    "\n",
    "- resamples the values in the first column of the dataframe\n",
    "  - If `Replace == True` then it uses `Q1_BootstrapY()` to do so.\n",
    "  - Otherwise, it uses `Q1_ShuffleY()` to do so.\n",
    "- runs `Q1_OLS3()` on the resampled data\n",
    "  - it calculates the conventional F-statistic and its p-value if `Robust == False`.\n",
    "  - otherwise it calculates the heteroscedasticity-robust F-statistic and its p-value.\n",
    "- repeats the resampling and regression steps `N` times.\n",
    "\n",
    "The function should return the fraction of times that the F-statistics it has calculated are greater than `F0`.<br>\n",
    "(It should not seed the RNG.)\n",
    "\n"
   ]
  },
  {
   "cell_type": "code",
   "execution_count": 8,
   "metadata": {
    "collapsed": false,
    "nbgrader": {
     "grade": false,
     "grade_id": "bafd96",
     "locked": false,
     "remove": false,
     "schema_version": 3,
     "solution": true,
     "task": false
    }
   },
   "outputs": [],
   "source": [
    "def Q1_Simulate(df, F0, N, Replace, Robust):\n",
    "    \"\"\"\n",
    "    This function accepts \n",
    "    - a dataframe (df) with 3 variables [Y,X1,X2]\n",
    "    - a real scalar (F0)\n",
    "    - an integer (N)\n",
    "    - two Booleans (Robust, Replace)\n",
    "    \n",
    "    It then resamples the values in Y, regresses Y on a constant, X1 and X2, testing the null hypothesis that the coefficients on X1 and X2 are both 0. This is repeated N times. \n",
    "    \n",
    "    If Replace == True, Y is resampled with replacement.\n",
    "    If Robust == True, robust (HC3) test statistics are calculated instead of non-robust.\n",
    "    \n",
    "    The function returns the fraction of times that the test statistics calculated are greater than F0.\n",
    "    \"\"\"\n",
    "    ### BEGIN SOLUTION\n",
    "    NoBigger = 0\n",
    "    # start the loop\n",
    "    for j in range(N):\n",
    "        if Replace:\n",
    "            df = Q1_BootstrapY(df)  # Bootstrap Y\n",
    "        else:\n",
    "            df = Q1_ShuffleY(df)  # Shuffle Y\n",
    "        # run regression and get F-stats and p-values\n",
    "        F_out = Q1_OLS3(df)\n",
    "        if Robust and (F_out[1, 0] > F0):\n",
    "            NoBigger += 1\n",
    "        elif (not Robust) and (F_out[0, 0] > F0):\n",
    "            NoBigger += 1\n",
    "    return NoBigger / N\n",
    "    ### END SOLUTION\n"
   ]
  },
  {
   "cell_type": "code",
   "execution_count": 9,
   "metadata": {
    "collapsed": false,
    "nbgrader": {
     "grade": true,
     "grade_id": "4e0daf",
     "locked": true,
     "points": 2,
     "schema_version": 3,
     "solution": false,
     "task": false
    }
   },
   "outputs": [],
   "source": [
    "# Does it give plausible results for random data?    \n",
    "test0 = Q1_Simulate(pd.DataFrame(npr.normal(size=(1000,3))),3,100,True,True) \n",
    "test1 = Q1_Simulate(pd.DataFrame(npr.normal(size=(1000,3))),3,100,False,False) \n",
    "assert (test0 < 0.15) and (test0 >= 0)\n",
    "assert (test1 < 0.15) and (test1 >= 0)\n"
   ]
  },
  {
   "cell_type": "markdown",
   "metadata": {
    "collapsed": false,
    "nbgrader": {
     "grade": false,
     "grade_id": "d45fc8",
     "locked": true,
     "remove": false,
     "schema_version": 3,
     "solution": false,
     "task": false
    }
   },
   "source": [
    "### Part e\n",
    "\n",
    "Using the data in `PSet_1_H2022.xlsx`, regress `SP500` on a constant, \n",
    "`Inflation_CPI` and `Oil Prices`. \n",
    "\n",
    "- Test the $H_0$ that the coefficients on `Inflation_CPI` and `Oil Prices` are both zero.\n",
    "- Print your test statistic and its estimated p-value.\n",
    "\n",
    "Now use your answer in (d) above to examine whether your conclusions from that test are reliable. \n",
    "\n",
    "- **Suggestion:** In (d), avoid using a value of `N` $ \\lt 500 .$.\n",
    "- If you didn't manage to get (d) working, explain how you would use its results to answer these questions.\n",
    "Briefly answer the following questions. (4 points each)\n",
    "\n"
   ]
  },
  {
   "cell_type": "code",
   "execution_count": 11,
   "metadata": {
    "collapsed": false
   },
   "outputs": [
    {
     "name": "stdout",
     "output_type": "stream",
     "text": [
      "                            OLS Regression Results                            \n",
      "==============================================================================\n",
      "Dep. Variable:                  SP500   R-squared:                       0.042\n",
      "Model:                            OLS   Adj. R-squared:                  0.034\n",
      "Method:                 Least Squares   F-statistic:                     5.473\n",
      "Date:                Sun, 13 Mar 2022   Prob (F-statistic):            0.00472\n",
      "Time:                        16:39:03   Log-Likelihood:                 441.32\n",
      "No. Observations:                 252   AIC:                            -876.6\n",
      "Df Residuals:                     249   BIC:                            -866.1\n",
      "Df Model:                           2                                         \n",
      "Covariance Type:            nonrobust                                         \n",
      "=================================================================================\n",
      "                    coef    std err          t      P>|t|      [0.025      0.975]\n",
      "---------------------------------------------------------------------------------\n",
      "const             0.0084      0.003      2.791      0.006       0.002       0.014\n",
      "Inflation_CPI    -0.8026      0.806     -0.995      0.321      -2.391       0.786\n",
      "Oil Prices        0.0951      0.029      3.236      0.001       0.037       0.153\n",
      "==============================================================================\n",
      "Omnibus:                       11.781   Durbin-Watson:                   1.992\n",
      "Prob(Omnibus):                  0.003   Jarque-Bera (JB):               17.815\n",
      "Skew:                          -0.301   Prob(JB):                     0.000135\n",
      "Kurtosis:                       4.155   Cond. No.                         303.\n",
      "==============================================================================\n",
      "\n",
      "Notes:\n",
      "[1] Standard Errors assume that the covariance matrix of the errors is correctly specified.\n",
      "Conventional F-test: <F test: F=5.473420930927797, p=0.0047172924423235915, df_denom=249, df_num=2>\n",
      "Robust F-test: <F test: F=2.544493856315806, p=0.08055291445650291, df_denom=249, df_num=2>\n",
      "Under H0, the non-robust F-statistic has a simulated p-value of \n"
     ]
    },
    {
     "name": "stdout",
     "output_type": "stream",
     "text": [
      "      0.009 with Approximate Randomization,\n"
     ]
    },
    {
     "name": "stdout",
     "output_type": "stream",
     "text": [
      "  and 0.0035 with a Bootstrap.\n",
      "Under H0, the robust F-statistic has a simulated p-value of \n"
     ]
    },
    {
     "name": "stdout",
     "output_type": "stream",
     "text": [
      "      0.088 with Approximate Randomization,\n"
     ]
    },
    {
     "name": "stdout",
     "output_type": "stream",
     "text": [
      "  and 0.012 with a Bootstrap.\n"
     ]
    }
   ],
   "source": [
    "#\n",
    "# First, let's see what we get using `RawData`\n",
    "#\n",
    "Results = sm.OLS(RawData.iloc[:, 0], sm.add_constant(RawData.iloc[:, 1:])).fit()\n",
    "print(Results.summary())\n",
    "B_Restr = np.array(([0, 1, 0], [0, 0, 1]))  # restrict \\beta1 = \\beta2 = 0\n",
    "print(f'Conventional F-test: {Results.f_test(B_Restr)}')\n",
    "RobResults = Results.get_robustcov_results(\n",
    "    cov_type='HC3')  # calculate robust std errs\n",
    "print(f'Robust F-test: {RobResults.f_test(B_Restr)}') \n",
    "#\n",
    "# Now let's compare those p-values for the robust and non-robust tests to what we get \n",
    "# on data simulated under H0\n",
    "#\n",
    "n_trials = 2000\n",
    "print(f'Under H0, the non-robust F-statistic has a simulated p-value of ')\n",
    "print(f'      {Q1_Simulate(RawData, 5.473, n_trials, Replace=False, Robust=False)} with Approximate Randomization,')\n",
    "print(f'  and {Q1_Simulate(RawData, 5.473, n_trials, Replace=True, Robust=False)} with a Bootstrap.')\n",
    "\n",
    "print(f'Under H0, the robust F-statistic has a simulated p-value of ')\n",
    "print(f'      {Q1_Simulate(RawData, 2.544, n_trials, Replace=False, Robust=True)} with Approximate Randomization,')\n",
    "print(f'  and {Q1_Simulate(RawData, 2.544, n_trials, Replace=True, Robust=True)} with a Bootstrap.')"
   ]
  },
  {
   "cell_type": "markdown",
   "metadata": {
    "collapsed": false,
    "nbgrader": {
     "grade": false,
     "grade_id": "a95b85",
     "locked": true,
     "schema_version": 3,
     "solution": false,
     "task": false
    }
   },
   "source": [
    "**1\\)** Does the non\\-robust F\\-test give reliable results on our data?  \n",
    "\n"
   ]
  },
  {
   "cell_type": "markdown",
   "metadata": {
    "collapsed": false,
    "nbgrader": {
     "grade": true,
     "grade_id": "1c8fda",
     "locked": false,
     "points": 4,
     "schema_version": 3,
     "solution": true,
     "task": false
    }
   },
   "source": [
    "Yes it does. \n",
    "\n",
    "It reports a p-value of roughly 0.005 which is very close to simulated values."
   ]
  },
  {
   "cell_type": "markdown",
   "metadata": {
    "collapsed": false,
    "nbgrader": {
     "grade": false,
     "grade_id": "7a6dbf",
     "locked": true,
     "schema_version": 3,
     "solution": false,
     "task": false
    }
   },
   "source": [
    "**2)** Does the robust F-test give reliable results on our data?"
   ]
  },
  {
   "cell_type": "markdown",
   "metadata": {
    "collapsed": false,
    "nbgrader": {
     "grade": true,
     "grade_id": "95cf65",
     "locked": false,
     "points": 4,
     "schema_version": 3,
     "solution": true,
     "task": false
    }
   },
   "source": [
    "It's hard to say.\n",
    "\n",
    "The Approximate Randomization gives a similar p-value, but the Bootstrap may suggest a much lower value. "
   ]
  },
  {
   "cell_type": "markdown",
   "metadata": {
    "collapsed": false,
    "nbgrader": {
     "grade": false,
     "grade_id": "d1177b",
     "locked": true,
     "schema_version": 3,
     "solution": false,
     "task": false
    }
   },
   "source": [
    "**3)** What do the above simulations tell us about the power of our F-tests?"
   ]
  },
  {
   "cell_type": "markdown",
   "metadata": {
    "collapsed": false,
    "nbgrader": {
     "grade": true,
     "grade_id": "6c786b",
     "locked": false,
     "points": 4,
     "schema_version": 3,
     "solution": true,
     "task": false
    }
   },
   "source": [
    "They tell us *nothing* about the power of the test because we are simulating under $H_0$."
   ]
  }
 ],
 "metadata": {
  "kernelspec": {
   "display_name": "Python 3 (system-wide)",
   "language": "python",
   "metadata": {
    "cocalc": {
     "description": "Python 3 programming language",
     "priority": 100,
     "url": "https://www.python.org/"
    }
   },
   "name": "python3",
   "resource_dir": "/ext/jupyter/kernels/python3"
  },
  "language_info": {
   "codemirror_mode": {
    "name": "ipython",
    "version": 3
   },
   "file_extension": ".py",
   "mimetype": "text/x-python",
   "name": "python",
   "nbconvert_exporter": "python",
   "pygments_lexer": "ipython3",
   "version": "3.8.10"
  },
  "nbgrader": {
   "__altered": false,
   "__hash": -169060138,
   "_root": {
    "entries": [
     [
      "size",
      6
     ],
     [
      "_root",
      {
       "entries": [
        [
         "size",
         6
        ],
        [
         "_root",
         {
          "entries": [
           [
            "size",
            6
           ],
           [
            "_root",
            {
             "entries": [
              [
               "size",
               6
              ],
              [
               "_root",
               {
                "entries": [
                 [
                  "size",
                  6
                 ],
                 [
                  "_root",
                  {
                   "entries": [
                    [
                     "size",
                     6
                    ],
                    [
                     "_root",
                     {
                      "entries": [
                       [
                        "size",
                        6
                       ],
                       [
                        "_root",
                        {
                         "entries": [
                          [
                           "size",
                           6
                          ],
                          [
                           "_root",
                           {
                            "entries": [
                             [
                              "size",
                              6
                             ],
                             [
                              "_root",
                              {
                               "entries": [
                                [
                                 "size",
                                 1
                                ],
                                [
                                 "_root",
                                 {
                                  "entries": [
                                   [
                                    "cocalc_minimal_stubs",
                                    false
                                   ]
                                  ],
                                  "ownerID": {}
                                 }
                                ],
                                [
                                 "__ownerID",
                                 null
                                ],
                                [
                                 "__hash",
                                 317186325
                                ],
                                [
                                 "__altered",
                                 false
                                ],
                                [
                                 "cocalc_minimal_stubs",
                                 false
                                ]
                               ],
                               "ownerID": {}
                              }
                             ],
                             [
                              "__ownerID",
                              null
                             ],
                             [
                              "__hash",
                              -428392034
                             ],
                             [
                              "__altered",
                              false
                             ],
                             [
                              "cocalc_minimal_stubs",
                              false
                             ]
                            ],
                            "ownerID": {}
                           }
                          ],
                          [
                           "__ownerID",
                           null
                          ],
                          [
                           "__hash",
                           446914683
                          ],
                          [
                           "__altered",
                           false
                          ],
                          [
                           "cocalc_minimal_stubs",
                           false
                          ]
                         ],
                         "ownerID": {}
                        }
                       ],
                       [
                        "__ownerID",
                        null
                       ],
                       [
                        "__hash",
                        224690474
                       ],
                       [
                        "__altered",
                        false
                       ],
                       [
                        "cocalc_minimal_stubs",
                        false
                       ]
                      ],
                      "ownerID": {}
                     }
                    ],
                    [
                     "__ownerID",
                     null
                    ],
                    [
                     "__hash",
                     -955652852
                    ],
                    [
                     "__altered",
                     false
                    ],
                    [
                     "cocalc_minimal_stubs",
                     false
                    ]
                   ],
                   "ownerID": {}
                  }
                 ],
                 [
                  "__ownerID",
                  null
                 ],
                 [
                  "__hash",
                  219674916
                 ],
                 [
                  "__altered",
                  false
                 ],
                 [
                  "cocalc_minimal_stubs",
                  false
                 ]
                ],
                "ownerID": {}
               }
              ],
              [
               "__ownerID",
               null
              ],
              [
               "__hash",
               -527664317
              ],
              [
               "__altered",
               false
              ],
              [
               "cocalc_minimal_stubs",
               false
              ]
             ],
             "ownerID": {}
            }
           ],
           [
            "__ownerID",
            null
           ],
           [
            "__hash",
            -897600081
           ],
           [
            "__altered",
            false
           ],
           [
            "cocalc_minimal_stubs",
            false
           ]
          ],
          "ownerID": {}
         }
        ],
        [
         "__ownerID",
         null
        ],
        [
         "__hash",
         205542498
        ],
        [
         "__altered",
         false
        ],
        [
         "cocalc_minimal_stubs",
         false
        ]
       ],
       "ownerID": {}
      }
     ],
     [
      "__ownerID",
      null
     ],
     [
      "__hash",
      -391975475
     ],
     [
      "__altered",
      false
     ],
     [
      "cocalc_minimal_stubs",
      false
     ]
    ],
    "ownerID": {}
   },
   "cocalc_minimal_stubs": false,
   "size": 6
  }
 },
 "nbformat": 4,
 "nbformat_minor": 4
}
